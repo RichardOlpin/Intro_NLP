{
 "cells": [
  {
   "cell_type": "markdown",
   "metadata": {},
   "source": [
    "# BMI 6115 Module 3: Homework assignment\n"
   ]
  },
  {
   "cell_type": "markdown",
   "metadata": {},
   "source": [
    "## (Reverse) Edit Distance\n",
    "\n",
    "Calculating the [edit distance](https://en.wikipedia.org/wiki/Edit_distance) between two strings means finding how many steps you need to get from one string to the next by using either substitution, deletion, or insertion. This can be useful for a number of applications, including spell-checking (what word did the user probably mean to type?) and evaluating spoken language systems (what word might the speaker have actually said?).\n",
    "\n",
    "Finding the Minimum Edit Distance between two strings is an example of a Dynamic Programming Algorithm, and it is beyond the scope of this course (although you are encouraged to work on it if you want: here is a lecture [https://web.stanford.edu/class/cs124/lec/med.pdf] from Stanford on the subject). So, instead, we are going to do the reverse: given a string, generate strings that are `n` steps away. This will help us come up with new vocabulary terms, including possible misspellings. \n",
    "\n",
    "For example, if the string we start with is **\"eat\"**, here are some of the words we'd want to generate with an edit distance of 1:\n",
    "\n",
    "- **Substitution:** [\"aat\", \"azt\", \"eal\", ...]\n",
    "- **Deletion:** [\"at\", \"et\", \"ea\"]\n",
    "- **Insertion:** [\"beat\", \"euat\", \"east\", \"eats\"]\n",
    "\n",
    "With an edit distance of 2, we could take all of the words we generated above and then do the same operations on each of them (\"eat\" => \"aat\" => \"alt\"). \n",
    "\n",
    "Note that most of the words we generate are not actual words. A few are, and some may even be useful words. For example, \"eats\" is an inflected form of \"eat\" and could be considered the same word. But even some of the non-words could be useful. For example, if we use this method to expand our vocabulary, we may catch instances where the clinician wrote \"cardac arrest\" instead of \"cardiac arrest\". To make sure we're not adding junk to our vocabulary, we could do a simple search to make sure that the \"word\" appears in the corpus at least one or more times."
   ]
  },
  {
   "cell_type": "markdown",
   "metadata": {},
   "source": [
    "## Problem 1. \n",
    "Complete the code below for `EditDistance`. Here is a walk-through of the algorithm.\n",
    "\n",
    "`def gen_edit_words(word):`\n",
    "\n",
    "#### **Parameters**:\n",
    "- `word`: the word that we will be manipulating\n",
    "\n",
    "#### **Algorithm**:\n",
    "- Create an empty list called `gen_words`.\n",
    "\n",
    "**STEP 1: Subsitution**\n",
    "- For integer `i` in len(`word`): \n",
    "    - for each `letter` in the alphabet (a-z):\n",
    "        - Create `new_word` where `word[i]` is replaced with `letter`.\n",
    "        - Append `new_word` to `gen_words`\n",
    "\n",
    "**STEP 2: Deletion**\n",
    "- For integer `i` in len(`word`):\n",
    "    - Create `new_word` where `word[i]` is deleted\n",
    "    - Append `new_word` to `gen_words`\n",
    "\n",
    "**STEP 3: Insertion**\n",
    "- For integer `i` in len(`word`):\n",
    "    - for each `letter` in the alphabet (a-z):\n",
    "        - Create `new_word` where  `letter` is placed between `word[i]` and `word[i-1]`.\n",
    "        - Append `new_word` to `gen_words`\n",
    "            \n",
    "- Return `gen_words`\n",
    "     \n",
    "         "
   ]
  },
  {
   "cell_type": "code",
   "execution_count": 75,
   "metadata": {},
   "outputs": [],
   "source": [
    "import string\n",
    "from string import ascii_lowercase\n",
    "\n",
    "class EditDistanceGenerator():\n",
    "    def __init__(self):\n",
    "        pass\n",
    "        \n",
    "    \n",
    "    def gen_edit_words(self, word):\n",
    "        # TODO: Write this method to generate all possible words 1-away from the given word\n",
    "        # Hint: Call the other helper methods from here\n",
    "        edit_words = self.gen_words_sub(word)\n",
    "        edit_words += self.gen_words_del(word)\n",
    "        edit_words += self.gen_words_insrt(word)\n",
    "        return edit_words\n",
    "\n",
    "    \n",
    "    \n",
    "    def gen_words_sub(self, word):\n",
    "        # TODO: Write this method to generate words 1-away from the given word using substitution\n",
    "        sub_words = []\n",
    "        for i in range(0,len(word)):\n",
    "            for letter in ascii_lowercase:\n",
    "                temp = list(word)\n",
    "                temp[i] = letter\n",
    "                new_word = \"\".join(temp)\n",
    "                sub_words.append(new_word)\n",
    "        \n",
    "        return sub_words\n",
    "    \n",
    "    \n",
    "    def gen_words_del(self, word):\n",
    "        # TODO: Write this method to generate words 1-away from the given word using deletion\n",
    "        del_words = []\n",
    "        for i in range(0,len(word)):\n",
    "            del_word = list(word)\n",
    "            del del_word[i]\n",
    "            del_word = \"\".join(del_word)\n",
    "            del_words.append(del_word)\n",
    "        return del_words\n",
    "    \n",
    "        \n",
    "    def gen_words_insrt(self, word):\n",
    "        # TODO: Write this method to generate words 1-away from the given word using insertion\n",
    "        insert_words = []\n",
    "        for i in range(0,len(word)):\n",
    "            for letter in ascii_lowercase:\n",
    "                new_word = word[:i] + letter + word[i:]\n",
    "                insert_words.append(new_word)\n",
    "        return insert_words\n",
    "       \n",
    "    "
   ]
  },
  {
   "cell_type": "code",
   "execution_count": 64,
   "metadata": {},
   "outputs": [
    {
     "name": "stdout",
     "output_type": "stream",
     "text": [
      "212\n",
      "['aord', 'bord', 'cord', 'dord', 'eord', 'ford', 'gord', 'hord', 'iord', 'jord', 'kord', 'lord', 'mord', 'nord', 'oord', 'pord', 'qord', 'rord', 'sord', 'tord', 'uord', 'vord', 'word', 'xord', 'yord', 'zord', 'ward', 'wbrd', 'wcrd', 'wdrd', 'werd', 'wfrd', 'wgrd', 'whrd', 'wird', 'wjrd', 'wkrd', 'wlrd', 'wmrd', 'wnrd', 'word', 'wprd', 'wqrd', 'wrrd', 'wsrd', 'wtrd', 'wurd', 'wvrd', 'wwrd', 'wxrd', 'wyrd', 'wzrd', 'woad', 'wobd', 'wocd', 'wodd', 'woed', 'wofd', 'wogd', 'wohd', 'woid', 'wojd', 'wokd', 'wold', 'womd', 'wond', 'wood', 'wopd', 'woqd', 'word', 'wosd', 'wotd', 'woud', 'wovd', 'wowd', 'woxd', 'woyd', 'wozd', 'wora', 'worb', 'worc', 'word', 'wore', 'worf', 'worg', 'worh', 'wori', 'worj', 'work', 'worl', 'worm', 'worn', 'woro', 'worp', 'worq', 'worr', 'wors', 'wort', 'woru', 'worv', 'worw', 'worx', 'wory', 'worz', 'ord', 'wrd', 'wod', 'wor', 'aword', 'bword', 'cword', 'dword', 'eword', 'fword', 'gword', 'hword', 'iword', 'jword', 'kword', 'lword', 'mword', 'nword', 'oword', 'pword', 'qword', 'rword', 'sword', 'tword', 'uword', 'vword', 'wword', 'xword', 'yword', 'zword', 'waord', 'wbord', 'wcord', 'wdord', 'weord', 'wford', 'wgord', 'whord', 'wiord', 'wjord', 'wkord', 'wlord', 'wmord', 'wnord', 'woord', 'wpord', 'wqord', 'wrord', 'wsord', 'wtord', 'wuord', 'wvord', 'wword', 'wxord', 'wyord', 'wzord', 'woard', 'wobrd', 'wocrd', 'wodrd', 'woerd', 'wofrd', 'wogrd', 'wohrd', 'woird', 'wojrd', 'wokrd', 'wolrd', 'womrd', 'wonrd', 'woord', 'woprd', 'woqrd', 'worrd', 'wosrd', 'wotrd', 'wourd', 'wovrd', 'wowrd', 'woxrd', 'woyrd', 'wozrd', 'worad', 'worbd', 'worcd', 'wordd', 'wored', 'worfd', 'worgd', 'worhd', 'worid', 'worjd', 'workd', 'world', 'wormd', 'wornd', 'worod', 'worpd', 'worqd', 'worrd', 'worsd', 'wortd', 'worud', 'worvd', 'worwd', 'worxd', 'woryd', 'worzd']\n"
     ]
    }
   ],
   "source": [
    "edit = EditDistanceGenerator()\n",
    "gen_words = edit.gen_edit_words('word')\n",
    "print(len(gen_words))\n",
    "print(gen_words)"
   ]
  },
  {
   "cell_type": "markdown",
   "metadata": {},
   "source": [
    "## Challenge Problem 2: \n",
    "1. Write a method that takes a corpus of words and a threshold, `n`, and restricts the generated edit words to words that occur at least `n` times in the corpus.\n",
    "2. Add a method `gen_edit_dist_n` that does up to `n` iterations of new words, not just 1. (ie., 'eat' => 'elt' => 'elty')"
   ]
  },
  {
   "cell_type": "code",
   "execution_count": 76,
   "metadata": {},
   "outputs": [
    {
     "name": "stdout",
     "output_type": "stream",
     "text": [
      "Counter({'word': 4, 'wword': 2, 'woord': 2, 'worrd': 2, 'aord': 1, 'bord': 1, 'cord': 1, 'dord': 1, 'eord': 1, 'ford': 1, 'gord': 1, 'hord': 1, 'iord': 1, 'jord': 1, 'kord': 1, 'lord': 1, 'mord': 1, 'nord': 1, 'oord': 1, 'pord': 1, 'qord': 1, 'rord': 1, 'sord': 1, 'tord': 1, 'uord': 1, 'vord': 1, 'xord': 1, 'yord': 1, 'zord': 1, 'ward': 1, 'wbrd': 1, 'wcrd': 1, 'wdrd': 1, 'werd': 1, 'wfrd': 1, 'wgrd': 1, 'whrd': 1, 'wird': 1, 'wjrd': 1, 'wkrd': 1, 'wlrd': 1, 'wmrd': 1, 'wnrd': 1, 'wprd': 1, 'wqrd': 1, 'wrrd': 1, 'wsrd': 1, 'wtrd': 1, 'wurd': 1, 'wvrd': 1, 'wwrd': 1, 'wxrd': 1, 'wyrd': 1, 'wzrd': 1, 'woad': 1, 'wobd': 1, 'wocd': 1, 'wodd': 1, 'woed': 1, 'wofd': 1, 'wogd': 1, 'wohd': 1, 'woid': 1, 'wojd': 1, 'wokd': 1, 'wold': 1, 'womd': 1, 'wond': 1, 'wood': 1, 'wopd': 1, 'woqd': 1, 'wosd': 1, 'wotd': 1, 'woud': 1, 'wovd': 1, 'wowd': 1, 'woxd': 1, 'woyd': 1, 'wozd': 1, 'wora': 1, 'worb': 1, 'worc': 1, 'wore': 1, 'worf': 1, 'worg': 1, 'worh': 1, 'wori': 1, 'worj': 1, 'work': 1, 'worl': 1, 'worm': 1, 'worn': 1, 'woro': 1, 'worp': 1, 'worq': 1, 'worr': 1, 'wors': 1, 'wort': 1, 'woru': 1, 'worv': 1, 'worw': 1, 'worx': 1, 'wory': 1, 'worz': 1, 'ord': 1, 'wrd': 1, 'wod': 1, 'wor': 1, 'aword': 1, 'bword': 1, 'cword': 1, 'dword': 1, 'eword': 1, 'fword': 1, 'gword': 1, 'hword': 1, 'iword': 1, 'jword': 1, 'kword': 1, 'lword': 1, 'mword': 1, 'nword': 1, 'oword': 1, 'pword': 1, 'qword': 1, 'rword': 1, 'sword': 1, 'tword': 1, 'uword': 1, 'vword': 1, 'xword': 1, 'yword': 1, 'zword': 1, 'waord': 1, 'wbord': 1, 'wcord': 1, 'wdord': 1, 'weord': 1, 'wford': 1, 'wgord': 1, 'whord': 1, 'wiord': 1, 'wjord': 1, 'wkord': 1, 'wlord': 1, 'wmord': 1, 'wnord': 1, 'wpord': 1, 'wqord': 1, 'wrord': 1, 'wsord': 1, 'wtord': 1, 'wuord': 1, 'wvord': 1, 'wxord': 1, 'wyord': 1, 'wzord': 1, 'woard': 1, 'wobrd': 1, 'wocrd': 1, 'wodrd': 1, 'woerd': 1, 'wofrd': 1, 'wogrd': 1, 'wohrd': 1, 'woird': 1, 'wojrd': 1, 'wokrd': 1, 'wolrd': 1, 'womrd': 1, 'wonrd': 1, 'woprd': 1, 'woqrd': 1, 'wosrd': 1, 'wotrd': 1, 'wourd': 1, 'wovrd': 1, 'wowrd': 1, 'woxrd': 1, 'woyrd': 1, 'wozrd': 1, 'worad': 1, 'worbd': 1, 'worcd': 1, 'wordd': 1, 'wored': 1, 'worfd': 1, 'worgd': 1, 'worhd': 1, 'worid': 1, 'worjd': 1, 'workd': 1, 'world': 1, 'wormd': 1, 'wornd': 1, 'worod': 1, 'worpd': 1, 'worqd': 1, 'worsd': 1, 'wortd': 1, 'worud': 1, 'worvd': 1, 'worwd': 1, 'worxd': 1, 'woryd': 1, 'worzd': 1})\n"
     ]
    }
   ],
   "source": [
    "from collections import Counter\n",
    "c = Counter()\n",
    "for word in gen_words:\n",
    "    c[word] += 1\n",
    "print(c)"
   ]
  },
  {
   "cell_type": "code",
   "execution_count": null,
   "metadata": {},
   "outputs": [],
   "source": []
  }
 ],
 "metadata": {
  "kernelspec": {
   "display_name": "Python 3",
   "language": "python",
   "name": "python3"
  },
  "language_info": {
   "codemirror_mode": {
    "name": "ipython",
    "version": 3
   },
   "file_extension": ".py",
   "mimetype": "text/x-python",
   "name": "python",
   "nbconvert_exporter": "python",
   "pygments_lexer": "ipython3",
   "version": "3.6.4"
  }
 },
 "nbformat": 4,
 "nbformat_minor": 2
}
